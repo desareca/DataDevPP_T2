{
 "cells": [
  {
   "cell_type": "markdown",
   "id": "3e8925f2",
   "metadata": {},
   "source": [
    "# client.ipynb - Pruebas a la API de Predicción de Temperatura\n",
    "Este notebook permite probar el funcionamiento de la API desplegada en Render, siguiendo el formato solicitado en la Tarea 2."
   ]
  },
  {
   "cell_type": "code",
   "execution_count": 4,
   "id": "01cc526d",
   "metadata": {},
   "outputs": [],
   "source": [
    "# Instalar la librería requests si no está disponible\n",
    "#!pip install requests"
   ]
  },
  {
   "cell_type": "markdown",
   "id": "8fcb611b",
   "metadata": {},
   "source": [
    "## Configurar la URL base de la API"
   ]
  },
  {
   "cell_type": "code",
   "execution_count": 1,
   "id": "1a027a94",
   "metadata": {},
   "outputs": [],
   "source": [
    "API_URL = 'https://prediccion-temperatura-estacion-quinta.onrender.com'"
   ]
  },
  {
   "cell_type": "markdown",
   "id": "10ab5425",
   "metadata": {},
   "source": [
    "## Prueba GET al endpoint raíz"
   ]
  },
  {
   "cell_type": "code",
   "execution_count": 5,
   "id": "96c8fe24",
   "metadata": {},
   "outputs": [
    {
     "name": "stdout",
     "output_type": "stream",
     "text": [
      "Status code: 200\n",
      "Respuesta: \"¡Felicitaciones! Tu API está funcionando según lo esperado. Anda ahora a http://localhost:8000/docs.\"\n"
     ]
    }
   ],
   "source": [
    "import requests\n",
    "response = requests.get(f'{API_URL}/')\n",
    "print('Status code:', response.status_code)\n",
    "print('Respuesta:', response.text)"
   ]
  },
  {
   "cell_type": "markdown",
   "id": "3df74638",
   "metadata": {},
   "source": [
    "## Prueba POST al endpoint /predict"
   ]
  },
  {
   "cell_type": "code",
   "execution_count": 6,
   "id": "9ba9f889",
   "metadata": {},
   "outputs": [
    {
     "name": "stdout",
     "output_type": "stream",
     "text": [
      "Status code: 200\n",
      "Respuesta: {'predicted_temperature': 20.501222956298044}\n"
     ]
    }
   ],
   "source": [
    "payload_predict = {\n",
    "    'Ts_Valor_1h': 20.5,\n",
    "    'Ts_Valor_2h': 20.1,\n",
    "    'Ts_Valor_3h': 19.8,\n",
    "    'Ts_Valor_24h': 18.7,\n",
    "    'Ts_Valor_25h': 18.5\n",
    "}\n",
    "response = requests.post(f'{API_URL}/predict', json=payload_predict)\n",
    "print('Status code:', response.status_code)\n",
    "print('Respuesta:', response.json())"
   ]
  },
  {
   "cell_type": "markdown",
   "id": "b4d872e6",
   "metadata": {},
   "source": [
    "## Prueba POST al endpoint /predict_n"
   ]
  },
  {
   "cell_type": "code",
   "execution_count": 7,
   "id": "7d681e8e",
   "metadata": {},
   "outputs": [
    {
     "name": "stdout",
     "output_type": "stream",
     "text": [
      "Status code: 200\n",
      "Respuesta: {'predicted_temperature': [15.79747125369243, 16.596261638301122, 17.177702832137506]}\n"
     ]
    }
   ],
   "source": [
    "payload_predict_n = {\n",
    "    'data': [18.5, 18.7, 19.8, 20.1, 20.5, 20.0, 19.5, 19.0, 18.8, 18.6,\n",
    "             18.4, 18.2, 18.0, 17.8, 17.6, 17.4, 17.2, 17.0, 16.8, 16.6,\n",
    "             16.4, 16.2, 16.0, 15.8, 15.6],\n",
    "    'hours': 3\n",
    "}\n",
    "response = requests.post(f'{API_URL}/predict_n', json=payload_predict_n)\n",
    "print('Status code:', response.status_code)\n",
    "print('Respuesta:', response.json())"
   ]
  },
  {
   "cell_type": "markdown",
   "id": "0434a235",
   "metadata": {},
   "source": [
    "## Prueba POST al endpoint /model_performance"
   ]
  },
  {
   "cell_type": "code",
   "execution_count": 8,
   "id": "517cf959",
   "metadata": {},
   "outputs": [
    {
     "name": "stdout",
     "output_type": "stream",
     "text": [
      "Status code: 200\n",
      "Respuesta: {'predicted_temperature': [15.79747125369243, 16.110160109746595], 'real_temperature': [15.4, 15.2], 'rmse': [0.7022730319775089], 'mean_true': [15.3], 'mean_pred': [15.953815681719512], 'std_true': [0.10000000000000053], 'std_pred': [0.15634442802708204]}\n"
     ]
    }
   ],
   "source": [
    "payload_performance = {\n",
    "    'data': [18.5, 18.7, 19.8, 20.1, 20.5, 20.0, 19.5, 19.0, 18.8, 18.6,\n",
    "             18.4, 18.2, 18.0, 17.8, 17.6, 17.4, 17.2, 17.0, 16.8, 16.6,\n",
    "             16.4, 16.2, 16.0, 15.8, 15.6, 15.4, 15.2],\n",
    "}\n",
    "response = requests.post(f'{API_URL}/model_performance', json=payload_performance)\n",
    "print('Status code:', response.status_code)\n",
    "print('Respuesta:', response.json())"
   ]
  },
  {
   "cell_type": "markdown",
   "id": "d803d971",
   "metadata": {},
   "source": [
    "## Validar respuestas y códigos de estado\n",
    "Verifica que las respuestas sean correctas y que los códigos de estado sean 200. Si hay errores, revisa el formato de los datos enviados."
   ]
  }
 ],
 "metadata": {
  "kernelspec": {
   "display_name": "venv",
   "language": "python",
   "name": "python3"
  },
  "language_info": {
   "codemirror_mode": {
    "name": "ipython",
    "version": 3
   },
   "file_extension": ".py",
   "mimetype": "text/x-python",
   "name": "python",
   "nbconvert_exporter": "python",
   "pygments_lexer": "ipython3",
   "version": "3.13.1"
  }
 },
 "nbformat": 4,
 "nbformat_minor": 5
}
